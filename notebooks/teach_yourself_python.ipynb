{
 "metadata": {
  "name": ""
 },
 "nbformat": 3,
 "nbformat_minor": 0,
 "worksheets": [
  {
   "cells": [
    {
     "cell_type": "markdown",
     "metadata": {},
     "source": [
      "### 1\n",
      "Please load the file provided to you by email. Use _json_ module to read it as a list. "
     ]
    },
    {
     "cell_type": "code",
     "collapsed": false,
     "input": [
      "# 1 use open a connection to the file\n",
      "# 2 read contents of the file\n",
      "# 3 use the json module to read the string as a list\n",
      "#(replace None with relevant code)\n",
      "\n",
      "file_handle = None\n",
      "file_content = None\n",
      "speech = None"
     ],
     "language": "python",
     "metadata": {},
     "outputs": [],
     "prompt_number": 10
    },
    {
     "cell_type": "markdown",
     "metadata": {},
     "source": [
      "Notice that type(speech) is list. Please take a moment to go through the python list documentation and check out the various ways to maipulate lists.  "
     ]
    },
    {
     "cell_type": "markdown",
     "metadata": {},
     "source": [
      "###2\n",
      "The first element of the list is the year of speech, the second element is the president who gave it, while the third is the transcript of the same. \n",
      "\n",
      "1. Inspect the transcript. Note the commonly used alphanumerical characters. Use an appropriate method of strings to get rid of them.\n",
      "2. Use an appropriate string method to split the string of the speech into a list of smaller list of words.\n",
      "3. Convert all words into lower case and return the list. Use a for loop. Then use a list comprehension to do the same.  "
     ]
    },
    {
     "cell_type": "code",
     "collapsed": false,
     "input": [
      "#1 \n",
      "stripped_text = None\n",
      "#2\n",
      "word_list = None\n",
      "#3 \n",
      "\n",
      "\"\"\"\n",
      "The following ways two ways of writing the for loop are equivalent\n",
      "square = []\n",
      "num_list = [1, 2, 3, 4]\n",
      "for num in num_list:\n",
      "    square.append(num**2)\n",
      "num_square = [num**2 for num in num_list]\n",
      "print square, num_square\n",
      "\"\"\"\n",
      "lower_words = None\n"
     ],
     "language": "python",
     "metadata": {},
     "outputs": [],
     "prompt_number": 5
    },
    {
     "cell_type": "markdown",
     "metadata": {},
     "source": [
      "### 3\n",
      "Create a function _preprocess_ that takes as arguments _text_ and _alphanum_chars_, a string of alphanumeric characters that you want get rid of. Perform all operations specfied in the previous question. However, converting to lowercase should be an optional argument. The data structure returned should be a list of words."
     ]
    },
    {
     "cell_type": "code",
     "collapsed": false,
     "input": [
      "def preprocess(text, alphanum_chars, lower = True):\n",
      "    ...\n"
     ],
     "language": "python",
     "metadata": {},
     "outputs": []
    },
    {
     "cell_type": "markdown",
     "metadata": {},
     "source": [
      "### 4\n",
      "Create a function _word_freq_ that takes as input a word list that has been preprocessed and returns a dictionary of the word frequency. Which is the fourth most frequent word of your word list? (Provide code that computes it)"
     ]
    },
    {
     "cell_type": "markdown",
     "metadata": {},
     "source": [
      "### 5\n",
      "Write a function that takes as input a word list and returns a dictionary of the frequencies of word lengths    "
     ]
    },
    {
     "cell_type": "markdown",
     "metadata": {},
     "source": [
      "### 6\n",
      "Load the file _sou_all.txt_ in ./data/pres_speech. Inspect its contents. Familiarise yourself with using regular expressions in python. You can use this [document](https://docs.python.org/2/howto/regex.html) as a starting point. Now use regular expressions to seperate the different speeches. Your function should accept the text and a regular expression as input and return a list of lists. Each element of the list should be a list with following structure:\n",
      "\n",
      "1. year\n",
      "2. president\n",
      "3. List of the transcript of the speech broken down into paragraphs."
     ]
    },
    {
     "cell_type": "markdown",
     "metadata": {},
     "source": [
      "### 7\n",
      "We will now do a very simple sentiment analysis using the AFINN list of words. AFINN is a list of English words rated for valence with an integer between minus five (negative) and plus five (positive). The words have been manually labeled by Finn \u00c5rup Nielsen in 2009-2011. A positive valence score can be interpreted as the word conveying a postive emotion and vice versa. \n",
      "\n",
      "Load _AFINN-111.txt_ from ./data/AFINN. Inspect the contents of the file and write a function that converts it into a dictionary where the keys are words and values are the valence scores attributed to them. You may use the readme file for hints. "
     ]
    },
    {
     "cell_type": "markdown",
     "metadata": {},
     "source": [
      "### 8\n",
      "Now, use the speech from question 1 to calculate its sentiment score. Match every word against the dictionary and add the sentiment score. If a word is not present mark its score as 0. Write a function that takes in a list of word and returns their sentiment score.\n",
      "What is the score of the speech you have been assigned?"
     ]
    },
    {
     "cell_type": "markdown",
     "metadata": {},
     "source": [
      "### 9\n",
      "Calculate the setiment score ovf every speech. Which year, president gave the least and most positive speech?"
     ]
    },
    {
     "cell_type": "markdown",
     "metadata": {},
     "source": [
      "### 10\n",
      "Normalise the sentiment scores and answer the above two questions again. "
     ]
    }
   ],
   "metadata": {}
  }
 ]
}